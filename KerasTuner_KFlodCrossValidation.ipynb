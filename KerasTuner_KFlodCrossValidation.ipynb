{
  "nbformat": 4,
  "nbformat_minor": 0,
  "metadata": {
    "colab": {
      "provenance": []
    },
    "kernelspec": {
      "name": "python3",
      "display_name": "Python 3"
    },
    "language_info": {
      "name": "python"
    }
  },
  "cells": [
    {
      "cell_type": "code",
      "source": [
        "!pip install keras-tuner --upgrade"
      ],
      "metadata": {
        "id": "rCwnfcvdzEWG",
        "colab": {
          "base_uri": "https://localhost:8080/"
        },
        "outputId": "eb9d0420-ede3-4044-cbaa-5a44b06d3cd4"
      },
      "execution_count": null,
      "outputs": [
        {
          "output_type": "stream",
          "name": "stdout",
          "text": [
            "Looking in indexes: https://pypi.org/simple, https://us-python.pkg.dev/colab-wheels/public/simple/\n",
            "Collecting keras-tuner\n",
            "  Downloading keras_tuner-1.1.3-py3-none-any.whl (135 kB)\n",
            "\u001b[2K     \u001b[90m━━━━━━━━━━━━━━━━━━━━━━━━━━━━━━━━━━━━━━━\u001b[0m \u001b[32m135.7/135.7 KB\u001b[0m \u001b[31m3.1 MB/s\u001b[0m eta \u001b[36m0:00:00\u001b[0m\n",
            "\u001b[?25hRequirement already satisfied: packaging in /usr/local/lib/python3.8/dist-packages (from keras-tuner) (21.3)\n",
            "Requirement already satisfied: numpy in /usr/local/lib/python3.8/dist-packages (from keras-tuner) (1.21.6)\n",
            "Requirement already satisfied: ipython in /usr/local/lib/python3.8/dist-packages (from keras-tuner) (7.9.0)\n",
            "Collecting kt-legacy\n",
            "  Downloading kt_legacy-1.0.4-py3-none-any.whl (9.6 kB)\n",
            "Requirement already satisfied: requests in /usr/local/lib/python3.8/dist-packages (from keras-tuner) (2.25.1)\n",
            "Requirement already satisfied: tensorboard in /usr/local/lib/python3.8/dist-packages (from keras-tuner) (2.9.1)\n",
            "Requirement already satisfied: decorator in /usr/local/lib/python3.8/dist-packages (from ipython->keras-tuner) (4.4.2)\n",
            "Requirement already satisfied: pickleshare in /usr/local/lib/python3.8/dist-packages (from ipython->keras-tuner) (0.7.5)\n",
            "Requirement already satisfied: setuptools>=18.5 in /usr/local/lib/python3.8/dist-packages (from ipython->keras-tuner) (57.4.0)\n",
            "Requirement already satisfied: traitlets>=4.2 in /usr/local/lib/python3.8/dist-packages (from ipython->keras-tuner) (5.7.1)\n",
            "Requirement already satisfied: backcall in /usr/local/lib/python3.8/dist-packages (from ipython->keras-tuner) (0.2.0)\n",
            "Requirement already satisfied: prompt-toolkit<2.1.0,>=2.0.0 in /usr/local/lib/python3.8/dist-packages (from ipython->keras-tuner) (2.0.10)\n",
            "Collecting jedi>=0.10\n",
            "  Downloading jedi-0.18.2-py2.py3-none-any.whl (1.6 MB)\n",
            "\u001b[2K     \u001b[90m━━━━━━━━━━━━━━━━━━━━━━━━━━━━━━━━━━━━━━━━\u001b[0m \u001b[32m1.6/1.6 MB\u001b[0m \u001b[31m38.8 MB/s\u001b[0m eta \u001b[36m0:00:00\u001b[0m\n",
            "\u001b[?25hRequirement already satisfied: pexpect in /usr/local/lib/python3.8/dist-packages (from ipython->keras-tuner) (4.8.0)\n",
            "Requirement already satisfied: pygments in /usr/local/lib/python3.8/dist-packages (from ipython->keras-tuner) (2.6.1)\n",
            "Requirement already satisfied: pyparsing!=3.0.5,>=2.0.2 in /usr/local/lib/python3.8/dist-packages (from packaging->keras-tuner) (3.0.9)\n",
            "Requirement already satisfied: urllib3<1.27,>=1.21.1 in /usr/local/lib/python3.8/dist-packages (from requests->keras-tuner) (1.24.3)\n",
            "Requirement already satisfied: idna<3,>=2.5 in /usr/local/lib/python3.8/dist-packages (from requests->keras-tuner) (2.10)\n",
            "Requirement already satisfied: certifi>=2017.4.17 in /usr/local/lib/python3.8/dist-packages (from requests->keras-tuner) (2022.12.7)\n",
            "Requirement already satisfied: chardet<5,>=3.0.2 in /usr/local/lib/python3.8/dist-packages (from requests->keras-tuner) (4.0.0)\n",
            "Requirement already satisfied: google-auth<3,>=1.6.3 in /usr/local/lib/python3.8/dist-packages (from tensorboard->keras-tuner) (2.15.0)\n",
            "Requirement already satisfied: tensorboard-data-server<0.7.0,>=0.6.0 in /usr/local/lib/python3.8/dist-packages (from tensorboard->keras-tuner) (0.6.1)\n",
            "Requirement already satisfied: wheel>=0.26 in /usr/local/lib/python3.8/dist-packages (from tensorboard->keras-tuner) (0.38.4)\n",
            "Requirement already satisfied: tensorboard-plugin-wit>=1.6.0 in /usr/local/lib/python3.8/dist-packages (from tensorboard->keras-tuner) (1.8.1)\n",
            "Requirement already satisfied: grpcio>=1.24.3 in /usr/local/lib/python3.8/dist-packages (from tensorboard->keras-tuner) (1.51.1)\n",
            "Requirement already satisfied: protobuf<3.20,>=3.9.2 in /usr/local/lib/python3.8/dist-packages (from tensorboard->keras-tuner) (3.19.6)\n",
            "Requirement already satisfied: werkzeug>=1.0.1 in /usr/local/lib/python3.8/dist-packages (from tensorboard->keras-tuner) (1.0.1)\n",
            "Requirement already satisfied: markdown>=2.6.8 in /usr/local/lib/python3.8/dist-packages (from tensorboard->keras-tuner) (3.4.1)\n",
            "Requirement already satisfied: absl-py>=0.4 in /usr/local/lib/python3.8/dist-packages (from tensorboard->keras-tuner) (1.3.0)\n",
            "Requirement already satisfied: google-auth-oauthlib<0.5,>=0.4.1 in /usr/local/lib/python3.8/dist-packages (from tensorboard->keras-tuner) (0.4.6)\n",
            "Requirement already satisfied: cachetools<6.0,>=2.0.0 in /usr/local/lib/python3.8/dist-packages (from google-auth<3,>=1.6.3->tensorboard->keras-tuner) (5.2.0)\n",
            "Requirement already satisfied: pyasn1-modules>=0.2.1 in /usr/local/lib/python3.8/dist-packages (from google-auth<3,>=1.6.3->tensorboard->keras-tuner) (0.2.8)\n",
            "Requirement already satisfied: rsa<5,>=3.1.4 in /usr/local/lib/python3.8/dist-packages (from google-auth<3,>=1.6.3->tensorboard->keras-tuner) (4.9)\n",
            "Requirement already satisfied: six>=1.9.0 in /usr/local/lib/python3.8/dist-packages (from google-auth<3,>=1.6.3->tensorboard->keras-tuner) (1.15.0)\n",
            "Requirement already satisfied: requests-oauthlib>=0.7.0 in /usr/local/lib/python3.8/dist-packages (from google-auth-oauthlib<0.5,>=0.4.1->tensorboard->keras-tuner) (1.3.1)\n",
            "Requirement already satisfied: parso<0.9.0,>=0.8.0 in /usr/local/lib/python3.8/dist-packages (from jedi>=0.10->ipython->keras-tuner) (0.8.3)\n",
            "Requirement already satisfied: importlib-metadata>=4.4 in /usr/local/lib/python3.8/dist-packages (from markdown>=2.6.8->tensorboard->keras-tuner) (6.0.0)\n",
            "Requirement already satisfied: wcwidth in /usr/local/lib/python3.8/dist-packages (from prompt-toolkit<2.1.0,>=2.0.0->ipython->keras-tuner) (0.2.5)\n",
            "Requirement already satisfied: ptyprocess>=0.5 in /usr/local/lib/python3.8/dist-packages (from pexpect->ipython->keras-tuner) (0.7.0)\n",
            "Requirement already satisfied: zipp>=0.5 in /usr/local/lib/python3.8/dist-packages (from importlib-metadata>=4.4->markdown>=2.6.8->tensorboard->keras-tuner) (3.11.0)\n",
            "Requirement already satisfied: pyasn1<0.5.0,>=0.4.6 in /usr/local/lib/python3.8/dist-packages (from pyasn1-modules>=0.2.1->google-auth<3,>=1.6.3->tensorboard->keras-tuner) (0.4.8)\n",
            "Requirement already satisfied: oauthlib>=3.0.0 in /usr/local/lib/python3.8/dist-packages (from requests-oauthlib>=0.7.0->google-auth-oauthlib<0.5,>=0.4.1->tensorboard->keras-tuner) (3.2.2)\n",
            "Installing collected packages: kt-legacy, jedi, keras-tuner\n",
            "Successfully installed jedi-0.18.2 keras-tuner-1.1.3 kt-legacy-1.0.4\n"
          ]
        }
      ]
    },
    {
      "cell_type": "code",
      "execution_count": null,
      "metadata": {
        "id": "2-CTH_QSqsxq"
      },
      "outputs": [],
      "source": [
        "from sklearn.datasets import make_moons\n",
        "\n",
        "X, y = make_moons(n_samples=100, shuffle=True, noise=0.3, random_state=43)\n",
        "\n",
        "from sklearn.model_selection import train_test_split\n",
        "X_train, X_test, y_train, y_test = train_test_split(X, y, test_size=0.33, random_state=42)"
      ]
    },
    {
      "cell_type": "code",
      "source": [
        "import tensorflow as tf\n",
        "from tensorflow import keras\n",
        "from tensorflow.keras import layers\n",
        "\n",
        "def build_model(hp):\n",
        "    model = keras.Sequential()\n",
        "    model.add(\n",
        "        layers.Dense(\n",
        "            # Define the hyperparameter.\n",
        "            units=hp.Int(\"units\", min_value=32, max_value=512, step=32),\n",
        "            activation=\"relu\",\n",
        "        )\n",
        "    )\n",
        "    model.add(layers.Dense(1, activation=\"linear\"))\n",
        "    model.compile(\n",
        "        optimizer='adam',\n",
        "        loss=tf.keras.losses.BinaryCrossentropy(from_logits=True),\n",
        "        metrics=[tf.keras.metrics.AUC(from_logits=True)],\n",
        "        #metrics=[\"accuracy\"],\n",
        "    )\n",
        "    return model"
      ],
      "metadata": {
        "id": "UnHVXEssvXCK"
      },
      "execution_count": null,
      "outputs": []
    },
    {
      "cell_type": "code",
      "source": [
        "import keras_tuner\n",
        "import numpy as np\n",
        "import io\n",
        "import copy\n",
        "from sklearn import model_selection\n",
        "from keras_tuner.engine import tuner_utils\n",
        "\n",
        "class CVTuner(keras_tuner.engine.tuner.Tuner):\n",
        "    def run_trial(self, trial, x, y, *args, **kwargs):\n",
        "        \n",
        "        model_checkpoint = tuner_utils.SaveBestEpoch(\n",
        "            objective=self.oracle.objective,\n",
        "            filepath=self._get_checkpoint_fname(trial.trial_id),\n",
        "        )\n",
        "        original_callbacks = kwargs.pop(\"callbacks\", [])\n",
        "\n",
        "        # Run the training process multiple times.\n",
        "        obj_list = []\n",
        "        histories = []\n",
        "        \"\"\" --------- Replace self.executions_per_trial by number of K-flod executions --------- \"\"\"\n",
        "        cv = model_selection.KFold(5)\n",
        "        for execution, (train_indices, test_indices) in enumerate( cv.split(x) ):\n",
        "            X_train, X_test = x[train_indices], x[test_indices]\n",
        "            y_train, y_test = y[train_indices], y[test_indices]\n",
        "            \"\"\" -------------------------------------------------------------------------------- \"\"\"\n",
        "            \n",
        "            copied_kwargs = copy.copy(kwargs)\n",
        "            callbacks = self._deepcopy_callbacks(original_callbacks)\n",
        "            self._configure_tensorboard_dir(callbacks, trial, execution)\n",
        "            callbacks.append(tuner_utils.TunerCallback(self, trial))\n",
        "            # Only checkpoint the best epoch across all executions.\n",
        "            callbacks.append(model_checkpoint)\n",
        "            copied_kwargs[\"callbacks\"] = callbacks\n",
        "            \n",
        "            \"\"\" ---------- add more argument when calling self._build_and_fit_model ------------ \"\"\"\n",
        "            obj_value = self._build_and_fit_model(trial, x=X_train, y=y_train, validation_data=(X_test, y_test), *args, **copied_kwargs)\n",
        "            #hp = trial.hyperparameters\n",
        "            #model = self._try_build(hp)\n",
        "            #obj_value = self.hypermodel.fit(hp, model, x=X_train, y=y_train, validation_data=(X_test, y_test), *args, **kwargs)\n",
        "            #tuner_utils.validate_trial_results(obj_value, self.oracle.objective, \"HyperModel.fit()\")\n",
        "            \"\"\" ---------------------------------------------------------------------------------\"\"\"\n",
        "            \n",
        "            \"\"\" by adding each training logs into histories as the return, BaseTuner will takes care\n",
        "             of computing average object metric scores over all executions in this trail. \"\"\"\n",
        "            histories.append(obj_value)\n",
        "            \"\"\" ----------- below code is to verify the behavior of averaging score ------------ \"\"\"\n",
        "            if self.oracle.objective.direction == \"max\":\n",
        "                obj_list.append( max(obj_value.history[self.oracle.objective.name]) )\n",
        "            else:\n",
        "                obj_list.append( min(obj_value.history[self.oracle.objective.name]) )\n",
        "        tf.print(np.mean(obj_list))\n",
        "        return histories\n",
        "\n",
        "buffer = io.BytesIO()\n",
        "\n",
        "tuner = CVTuner(\n",
        "    hypermodel = build_model,\n",
        "    oracle = keras_tuner.oracles.BayesianOptimization(\n",
        "        objective = keras_tuner.Objective(\"val_auc\", direction=\"max\"), \n",
        "        #objective = \"val_loss\",\n",
        "        max_trials = 5\n",
        "        ),\n",
        "    overwrite=True,\n",
        "    directory = buffer,\n",
        "    project_name = 'simple_proj'\n",
        "    )\n",
        "\n",
        "tuner.search(X, y, batch_size=64, epochs=5, verbose=0) # no need for validation_data=(X_test, y_test)"
      ],
      "metadata": {
        "id": "2MnBsmdX8iYL",
        "colab": {
          "base_uri": "https://localhost:8080/"
        },
        "outputId": "eefcd03c-132c-40c6-f016-a86a24e31126"
      },
      "execution_count": null,
      "outputs": [
        {
          "output_type": "stream",
          "name": "stdout",
          "text": [
            "0.91474289894104\n",
            "0.9215472221374512\n",
            "0.9347020745277405\n",
            "0.8733270287513732\n",
            "0.9162164330482483\n"
          ]
        }
      ]
    },
    {
      "cell_type": "code",
      "source": [
        "tuner.results_summary()"
      ],
      "metadata": {
        "id": "zdxCvkxPi6BO",
        "colab": {
          "base_uri": "https://localhost:8080/"
        },
        "outputId": "520b78de-00e1-453c-c7f3-10199afbd989"
      },
      "execution_count": null,
      "outputs": [
        {
          "output_type": "stream",
          "name": "stdout",
          "text": [
            "Results summary\n",
            "Results in <_io.BytesIO object at 0x7f9a13828b30>/simple_proj\n",
            "Showing 10 best trials\n",
            "<keras_tuner.engine.objective.Objective object at 0x7f9a7dba2910>\n",
            "Trial summary\n",
            "Hyperparameters:\n",
            "units: 352\n",
            "Score: 0.9347020745277405\n",
            "Trial summary\n",
            "Hyperparameters:\n",
            "units: 416\n",
            "Score: 0.9215472221374512\n",
            "Trial summary\n",
            "Hyperparameters:\n",
            "units: 256\n",
            "Score: 0.9162164330482483\n",
            "Trial summary\n",
            "Hyperparameters:\n",
            "units: 480\n",
            "Score: 0.91474289894104\n",
            "Trial summary\n",
            "Hyperparameters:\n",
            "units: 32\n",
            "Score: 0.8733270287513732\n"
          ]
        }
      ]
    },
    {
      "cell_type": "code",
      "source": [
        "best_hps = tuner.get_best_hyperparameters(2)\n",
        "model = build_model(best_hps[0])\n",
        "model.build(input_shape=(None, 2))\n",
        "model.summary()"
      ],
      "metadata": {
        "colab": {
          "base_uri": "https://localhost:8080/"
        },
        "id": "Gra61V8fPRzZ",
        "outputId": "2b88dff5-e0b2-4d8a-bf5c-0ef566291f27"
      },
      "execution_count": null,
      "outputs": [
        {
          "output_type": "stream",
          "name": "stdout",
          "text": [
            "Model: \"sequential_1\"\n",
            "_________________________________________________________________\n",
            " Layer (type)                Output Shape              Param #   \n",
            "=================================================================\n",
            " dense_2 (Dense)             (None, 352)               1056      \n",
            "                                                                 \n",
            " dense_3 (Dense)             (None, 1)                 353       \n",
            "                                                                 \n",
            "=================================================================\n",
            "Total params: 1,409\n",
            "Trainable params: 1,409\n",
            "Non-trainable params: 0\n",
            "_________________________________________________________________\n"
          ]
        }
      ]
    }
  ]
}