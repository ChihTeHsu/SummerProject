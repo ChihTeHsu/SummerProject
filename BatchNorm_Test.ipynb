{
  "nbformat": 4,
  "nbformat_minor": 0,
  "metadata": {
    "colab": {
      "provenance": [],
      "collapsed_sections": []
    },
    "kernelspec": {
      "name": "python3",
      "display_name": "Python 3"
    },
    "language_info": {
      "name": "python"
    }
  },
  "cells": [
    {
      "cell_type": "code",
      "source": [
        "# Setup plotting\n",
        "import matplotlib.pyplot as plt\n",
        "\n",
        "plt.style.use('seaborn-whitegrid')\n",
        "# Set Matplotlib defaults\n",
        "plt.rc('figure', autolayout=True)\n",
        "plt.rc('axes', labelweight='bold', labelsize='large',\n",
        "       titleweight='bold', titlesize=18, titlepad=10)\n",
        "\n",
        "\n",
        "import pandas as pd\n",
        "red_wine = pd.read_csv('https://archive.ics.uci.edu/ml/machine-learning-databases/wine-quality/winequality-red.csv', sep=';')\n",
        "\n",
        "# Create training and validation splits\n",
        "df_train = red_wine.sample(frac=0.7, random_state=0)\n",
        "df_valid = red_wine.drop(df_train.index)\n",
        "\n",
        "# Split features and target\n",
        "X_train = df_train.drop('quality', axis=1).to_numpy()\n",
        "X_valid = df_valid.drop('quality', axis=1).to_numpy()\n",
        "y_train = df_train['quality'].to_numpy()\n",
        "y_valid = df_valid['quality'].to_numpy()"
      ],
      "metadata": {
        "id": "1--87ajEQ7SG"
      },
      "execution_count": 1,
      "outputs": []
    },
    {
      "cell_type": "code",
      "execution_count": 2,
      "metadata": {
        "id": "jnu0O2cCJhGE"
      },
      "outputs": [],
      "source": [
        "import tensorflow as tf\n",
        "tf.keras.backend.clear_session()\n",
        "\n",
        "from tensorflow.keras import layers, models\n",
        "import tensorflow.keras.backend as K\n",
        "\n",
        "import tensorflow.experimental.numpy as tnp\n",
        "\n",
        "class BatchNormFCLayer(tf.keras.layers.Layer):  # for the case of fully connected (1D inputs)\n",
        "    \"\"\"\n",
        "    We create class variables such as gamma and beta to be trained. Also creating list of the accumulating\n",
        "    tensors of moving_mean and moving_variance that are expected to grow up to window size. They are helpful for the\n",
        "    last part of batchnorm algorithm where another affine transformation is performed using the averages\n",
        "    \"\"\"\n",
        "\n",
        "    def __init__(self, epsilon=0.00000001, decay = 0.999):\n",
        "        \"\"\"\n",
        "        :param epsilon:\n",
        "        :param window:\n",
        "        \"\"\"\n",
        "        super().__init__()\n",
        "\n",
        "        gamma_init = tf.ones_initializer()\n",
        "        self.gamma = tf.Variable(initial_value=gamma_init(shape=[1], dtype='float32'), trainable=True)\n",
        "        \n",
        "        beta_init = tf.zeros_initializer()\n",
        "        self.beta = tf.Variable(initial_value=beta_init(shape=[1], dtype='float32'), trainable=True)\n",
        "        \n",
        "        self.decay = decay\n",
        "        self.epsilon = epsilon\n",
        "\n",
        "    def build(self, input_shape):  # should pass shape for your variable\n",
        "        self.pop_mean = tf.Variable(tf.zeros([input_shape[-1]]), trainable=False)\n",
        "        self.pop_var = tf.Variable(tf.ones([input_shape[-1]]), trainable=False)\n",
        "        super().build(input_shape)  # Be sure to call this at the end\n",
        "\n",
        "    def call(self, inputs, training=False):  # Defines the computation from inputs to outputs\n",
        "        mu = tf.math.reduce_mean(inputs, axis=0)\n",
        "        variance = K.var(inputs, axis=0)\n",
        "\n",
        "        if training:  # In case of training, perform batch normalization to learn beta and gamma\n",
        "            #tf.print(\"Train\",self.beta, self.gamma)\n",
        "            self.pop_mean.assign( self.pop_mean * self.decay + mu * (1 - self.decay) )\n",
        "            self.pop_var.assign( self.pop_var * self.decay + variance * (1 - self.decay) )\n",
        "\n",
        "            #outputs = tf.nn.batch_normalization(inputs, mu, variance, self.beta, self.gamma, K.epsilon())\n",
        "            x_hat = (inputs - mu)/tf.sqrt(tf.maximum(variance, K.epsilon()))\n",
        "        \n",
        "        else:  # In case of testing - calculation of the inference model\n",
        "            #tf.print(\"Test\",self.beta, self.gamma)\n",
        "            #outputs = tf.nn.batch_normalization(inputs, self.pop_mean, self.pop_var, self.beta, self.gamma, K.epsilon())\n",
        "            x_hat = (inputs - self.pop_mean)/tf.sqrt(tf.maximum(self.pop_var, K.epsilon()))\n",
        "            \n",
        "        outputs = self.gamma * x_hat + self.beta\n",
        "        return outputs\n"
      ]
    },
    {
      "cell_type": "code",
      "source": [
        "from tensorflow import keras\n",
        "\n",
        "\n",
        "model = keras.Sequential([\n",
        "    layers.Dense(128, activation='relu', input_shape=[11]),\n",
        "    layers.Dropout(0.3),\n",
        "    BatchNormFCLayer(),\n",
        "    layers.Dense(64, activation='relu'),\n",
        "    layers.Dense(1),\n",
        "])\n",
        "\n",
        "model.compile(\n",
        "    optimizer='adam',\n",
        "    loss='mae',\n",
        ")\n",
        "\n",
        "history = model.fit(\n",
        "    X_train, y_train,\n",
        "    batch_size=64,\n",
        "    epochs=10,\n",
        "    validation_data=(X_valid, y_valid),\n",
        "    verbose=0\n",
        ")\n"
      ],
      "metadata": {
        "id": "yzfYfEr_qgTO"
      },
      "execution_count": 3,
      "outputs": []
    },
    {
      "cell_type": "code",
      "source": [
        "loss = history.history['loss']\n",
        "val = history.history['val_loss']\n",
        "epochs = range(1, len(loss)+1)\n",
        "plt.plot(epochs, loss, '-', label='Training')\n",
        "plt.plot(epochs, val, ':', label='Validation')\n",
        "plt.legend()"
      ],
      "metadata": {
        "colab": {
          "base_uri": "https://localhost:8080/",
          "height": 314
        },
        "id": "7Spxro32NbfU",
        "outputId": "f105ad09-02c2-4f9d-c194-687ad4e63e68"
      },
      "execution_count": 4,
      "outputs": [
        {
          "output_type": "execute_result",
          "data": {
            "text/plain": [
              "<matplotlib.legend.Legend at 0x7efcbc5eee50>"
            ]
          },
          "metadata": {},
          "execution_count": 4
        },
        {
          "output_type": "display_data",
          "data": {
            "text/plain": [
              "<Figure size 432x288 with 1 Axes>"
            ],
            "image/png": "[encoded data removed]"
          },
          "metadata": {}
        }
      ]
    },
    {
      "cell_type": "code",
      "source": [
        "from sklearn.metrics import roc_auc_score\n",
        "\n"
      ],
      "metadata": {
        "id": "l7FYhRkmOrN4"
      },
      "execution_count": 5,
      "outputs": []
    }
  ]
}